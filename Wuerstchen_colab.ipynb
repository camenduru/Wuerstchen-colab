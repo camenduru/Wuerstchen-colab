{
  "cells": [
    {
      "cell_type": "markdown",
      "metadata": {
        "id": "view-in-github"
      },
      "source": [
        "[![Open In Colab](https://colab.research.google.com/assets/colab-badge.svg)](https://colab.research.google.com/github/camenduru/Wuerstchen-colab/blob/main/Wuerstchen_colab.ipynb)"
      ]
    },
    {
      "cell_type": "code",
      "execution_count": null,
      "metadata": {
        "id": "VjYy0F2gZIPR"
      },
      "outputs": [],
      "source": [
        "%cd /content\n",
        "!git clone -b dev https://github.com/camenduru/Wuerstchen-hf\n",
        "%cd /content/Wuerstchen-hf\n",
        "!pip install -q -r requirements.txt\n",
        "!wget https://huggingface.co/spaces/warp-ai/Wuerstchen/resolve/main/previewer/text2img_wurstchen_b_v1_previewer_100k.pt -O /content/Wuerstchen-hf/previewer/text2img_wurstchen_b_v1_previewer_100k.pt\n",
        "!python app.py"
      ]
    }
  ],
  "metadata": {
    "accelerator": "GPU",
    "colab": {
      "gpuType": "T4",
      "provenance": []
    },
    "kernelspec": {
      "display_name": "Python 3",
      "name": "python3"
    },
    "language_info": {
      "name": "python"
    }
  },
  "nbformat": 4,
  "nbformat_minor": 0
}
